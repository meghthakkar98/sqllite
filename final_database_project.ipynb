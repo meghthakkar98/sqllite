{
  "nbformat": 4,
  "nbformat_minor": 0,
  "metadata": {
    "colab": {
      "provenance": [],
      "collapsed_sections": [
        "tVPQwqz3w-43",
        "0SbKOwuRnL9I"
      ]
    },
    "kernelspec": {
      "name": "python3",
      "display_name": "Python 3"
    },
    "language_info": {
      "name": "python"
    }
  },
  "cells": [
    {
      "cell_type": "markdown",
      "source": [
        "#Part 1"
      ],
      "metadata": {
        "id": "tVPQwqz3w-43"
      }
    },
    {
      "cell_type": "markdown",
      "source": [
        "We will use one full day worth of tweets as our input (there are total of 4.4M tweets in this file, but we will intentionally use fewer tweets to run this final):\n",
        "http://dbgroup.cdm.depaul.edu/DSC450/OneDayOfTweets.txt\n",
        "Execute and time the following tasks with 110,000 tweets and 550,000 tweets:\n"
      ],
      "metadata": {
        "id": "_NWSqshuvrj2"
      }
    },
    {
      "cell_type": "markdown",
      "source": [
        "a.\tUse python to download tweets from the web and save to a local text file (not into a database yet, just to a text file). This is as simple as it sounds, all you need is a for-loop that reads lines from the web and writes them into a file.\n",
        "\n",
        "NOTE: Do not call read() or readlines(). That command will attempt to read the entire file which is too much data. Clicking on the link in the browser would cause the same problem.\n"
      ],
      "metadata": {
        "id": "npuMUTnlvw-K"
      }
    },
    {
      "cell_type": "code",
      "source": [
        "import time\n",
        "import requests\n",
        "import urllib.request\n",
        "import json\n",
        "import sqlite3\n",
        "import pandas as pd\n",
        "import numpy as np\n",
        "import re\n",
        "import matplotlib.pyplot as plt"
      ],
      "metadata": {
        "id": "5hvD1XWECJkg"
      },
      "execution_count": null,
      "outputs": []
    },
    {
      "cell_type": "code",
      "execution_count": null,
      "metadata": {
        "id": "vcUE30BNkrnk",
        "colab": {
          "base_uri": "https://localhost:8080/"
        },
        "outputId": "ece0b184-460c-4121-b0ab-8b9f55a235b7"
      },
      "outputs": [
        {
          "output_type": "stream",
          "name": "stdout",
          "text": [
            "Total Time -  17.193567514419556\n"
          ]
        }
      ],
      "source": [
        "url = 'http://dbgroup.cdm.depaul.edu/DSC450/OneDayOfTweets.txt'\n",
        "count = 0\n",
        "tweetsnum1 = 110000\n",
        "start = time.time()\n",
        "\n",
        "response = requests.get(url, stream=True)\n",
        "with open(\"alltweets.txt\", \"wb\") as file:\n",
        "    for line in response.iter_lines():\n",
        "        if line:\n",
        "            encoded_line = line.decode('utf-8') + '\\n'\n",
        "            file.write(encoded_line.encode('utf-8'))\n",
        "            count += 1\n",
        "            if count >= tweetsnum1:\n",
        "                response.close()\n",
        "                break\n",
        "\n",
        "end = time.time()\n",
        "totaltime1a_1 = end - start\n",
        "print(\"Total Time - \", totaltime1a_1)\n",
        "\n",
        "part1a_1 = totaltime1a_1\n"
      ]
    },
    {
      "cell_type": "code",
      "source": [
        "url = 'http://dbgroup.cdm.depaul.edu/DSC450/OneDayOfTweets.txt'\n",
        "count = 0\n",
        "tweetsnum2 = 550000\n",
        "\n",
        "start = time.time()\n",
        "\n",
        "response = requests.get(url, stream=True)\n",
        "with open(\"alltweets2.txt\", \"wb\") as file:\n",
        "    for line in response.iter_lines():\n",
        "        if line:\n",
        "            encoded_line = line.decode('utf-8') + '\\n'\n",
        "            file.write(encoded_line.encode('utf-8'))\n",
        "            count += 1\n",
        "            if count >= tweetsnum2:\n",
        "                response.close()\n",
        "                break\n",
        "\n",
        "end = time.time()\n",
        "totaltime1a_2 = end - start\n",
        "print(\"Total Time - \", totaltime1a_2)\n",
        "\n",
        "part1a_2 = totaltime1a_2\n"
      ],
      "metadata": {
        "colab": {
          "base_uri": "https://localhost:8080/"
        },
        "id": "ox8N2SLsFiJw",
        "outputId": "d92dfad3-6f15-4d48-d83b-5b8ee32ef449"
      },
      "execution_count": null,
      "outputs": [
        {
          "output_type": "stream",
          "name": "stdout",
          "text": [
            "Total Time -  76.90362167358398\n"
          ]
        }
      ]
    },
    {
      "cell_type": "code",
      "source": [
        "totaltimepart1a = part1a_1  + part1a_2\n",
        "print(\"Total time for part 1 A = \",totaltimepart1a )"
      ],
      "metadata": {
        "colab": {
          "base_uri": "https://localhost:8080/"
        },
        "id": "vhhxbCMMWMF4",
        "outputId": "a7a89166-a9a9-442b-d98d-79b8ef34c6b8"
      },
      "execution_count": null,
      "outputs": [
        {
          "output_type": "stream",
          "name": "stdout",
          "text": [
            "Total time for part 1 A =  94.09718918800354\n"
          ]
        }
      ]
    },
    {
      "cell_type": "markdown",
      "source": [
        "b.\tRepeat what you did in part 1-a, but instead of saving tweets to the file, populate the 3-table schema that you previously created in SQLite. Be sure to execute commit and verify that the data has been successfully loaded. Report loaded row counts for each of the 3 tables."
      ],
      "metadata": {
        "id": "hrrtJzBx3e19"
      }
    },
    {
      "cell_type": "code",
      "source": [
        "#Part 1 b (110k tweets)\n",
        "start = time.time()\n",
        "numoftweets = 110000\n",
        "mainurl = 'http://dbgroup.cdm.depaul.edu/DSC450/OneDayOfTweets.txt'\n",
        "con = sqlite3.connect(\"Finalpro1.sqlite\")\n",
        "cursor = con.cursor()\n",
        "cursor.execute('DROP TABLE IF EXISTS tweeter;')\n",
        "cursor.execute('DROP TABLE IF EXISTS User;')\n",
        "cursor.execute('DROP TABLE IF EXISTS Geo;')\n",
        "cursor.execute('''\n",
        "    CREATE TABLE User (\n",
        "        id_user INT(100) ,\n",
        "        name VARCHAR(255),\n",
        "        screen_name VARCHAR(255),\n",
        "        description VARCHAR(255),\n",
        "        friends_count INT(100)\n",
        "    );\n",
        "''')\n",
        "\n",
        "cursor.execute('''\n",
        "    CREATE TABLE Geo (\n",
        "        id_geo VARCHAR(255),\n",
        "        type VARCHAR(255),\n",
        "        latitude VARCHAR(255),\n",
        "        longitude VARCHAR(255)\n",
        "    );\n",
        "''')\n",
        "\n",
        "cursor.execute('''\n",
        "    CREATE TABLE tweeter (\n",
        "        id VARCHAR(255),\n",
        "        id_str VARCHAR(255),\n",
        "        text VARCHAR(255),\n",
        "        source VARCHAR(255),\n",
        "        truncated INT(100),\n",
        "        created_at VARCHAR(255),\n",
        "        retweet_count INT(100),\n",
        "        favorite_count INT(100),\n",
        "        favorited INT(100),\n",
        "        retweeted INT(100),\n",
        "        lang VARCHAR(255),\n",
        "        possibly_sensitive INT(100),\n",
        "        user_id INT,\n",
        "        geo_id VARCHAR(255),\n",
        "        filter_level VARCHAR(255),\n",
        "        FOREIGN KEY (user_id) REFERENCES User(id_user),\n",
        "        FOREIGN KEY (geo_id) REFERENCES Geo(id_geo)\n",
        "    );\n",
        "''')\n",
        "\n",
        "try:\n",
        "    with requests.get(url=mainurl, stream=True) as response:\n",
        "        if response.status_code == 200:\n",
        "            count = 0\n",
        "            numoftweets = 110000\n",
        "            for line in response.iter_lines():\n",
        "                all_data = json.loads(line.decode('utf-8'))\n",
        "                if line:\n",
        "                    user = all_data['user']\n",
        "                    if user is not None:\n",
        "                        sql_user_query = 'INSERT INTO User (id_user, name, screen_name, description, friends_count) VALUES (?, ?, ?, ?, ?);'\n",
        "                        user_data = (\n",
        "                            user['id'],\n",
        "                            user['name'],\n",
        "                            user['screen_name'],\n",
        "                            user['description'],\n",
        "                            user['friends_count']\n",
        "                        )\n",
        "                        cursor.execute(sql_user_query, user_data)\n",
        "                    geo = all_data['geo']\n",
        "\n",
        "                    if geo is not None:\n",
        "                        id_geo = str(geo['coordinates'][0]) + \"_\" + str(geo['coordinates'][1])\n",
        "                        sql = 'INSERT INTO Geo (id_geo, type, latitude, longitude) VALUES (?, ?, ?, ?);'\n",
        "                        geo_data = (\n",
        "                            id_geo,\n",
        "                            geo['type'],\n",
        "                            geo['coordinates'][0],\n",
        "                            geo['coordinates'][1]\n",
        "                        )\n",
        "                        cursor.execute(sql, geo_data)\n",
        "                    else:\n",
        "                        id_geo = None\n",
        "\n",
        "                    user_id = all_data['user']['id']\n",
        "                    sql_tweet_query = 'INSERT INTO tweeter (id, id_str, text, source, truncated, created_at, retweet_count, favorite_count, favorited, retweeted, lang, possibly_sensitive, user_id, geo_id, filter_level) VALUES (?, ?, ?, ?, ?, ?, ?, ?, ?, ?, ?, ?, ?, ?, ?);'\n",
        "                    tweet_data = (\n",
        "                        all_data['id'],\n",
        "                        all_data['id_str'],\n",
        "                        all_data['text'],\n",
        "                        all_data['source'],\n",
        "                        all_data['truncated'],\n",
        "                        all_data['created_at'],\n",
        "                        all_data['retweet_count'],\n",
        "                        all_data['favorite_count'],\n",
        "                        all_data['favorited'],\n",
        "                        all_data['retweeted'],\n",
        "                        all_data['lang'],\n",
        "                        all_data['possibly_sensitive'],\n",
        "                        user_id,\n",
        "                        id_geo,\n",
        "                        all_data['filter_level']\n",
        "                    )\n",
        "                    cursor.execute(sql_tweet_query, tweet_data)\n",
        "                    count += 1\n",
        "                    if count >= numoftweets:\n",
        "                        break\n",
        "\n",
        "            con.commit()\n",
        "        else:\n",
        "            print(\"Error downloading tweets. Status code:\", response.status_code)\n",
        "except requests.exceptions.RequestException as e:\n",
        "    print(\"Error:\", e)\n",
        "\n",
        "end = time.time() - start\n",
        "part1b_1 = end\n",
        "print(\"Execution Time:\", end)\n",
        "total_tweet_count = cursor.execute('SELECT COUNT(*) FROM tweeter;').fetchone()[0]\n",
        "print(\"Total number of rows in tweets table:\", total_tweet_count)\n",
        "total_user_count = cursor.execute('SELECT COUNT(*) FROM User;').fetchone()[0]\n",
        "print(\"Total number of rows in users table:\", total_user_count)\n",
        "total_geo_count = cursor.execute('SELECT COUNT(*) FROM Geo;').fetchone()[0]\n",
        "print(\"Total number of rows in geo table:\", total_geo_count)\n"
      ],
      "metadata": {
        "colab": {
          "base_uri": "https://localhost:8080/"
        },
        "id": "LD-tsb4Q_Aks",
        "outputId": "86f1b45d-c0e4-4b78-981d-0dd35477e030"
      },
      "execution_count": null,
      "outputs": [
        {
          "output_type": "stream",
          "name": "stdout",
          "text": [
            "Execution Time: 16.954856872558594\n",
            "Total number of rows in tweets table: 110000\n",
            "Total number of rows in users table: 110000\n",
            "Total number of rows in geo table: 2466\n"
          ]
        }
      ]
    },
    {
      "cell_type": "code",
      "source": [
        "cursor.execute('PRAGMA foreign_key_check(Geo);')\n",
        "result = cursor.fetchall()\n",
        "print(result)\n"
      ],
      "metadata": {
        "colab": {
          "base_uri": "https://localhost:8080/"
        },
        "id": "Rn0JLQ8TR2Tx",
        "outputId": "ac35d8d7-c56a-4fb9-b444-e7efc1a8b3b1"
      },
      "execution_count": null,
      "outputs": [
        {
          "output_type": "stream",
          "name": "stdout",
          "text": [
            "[]\n"
          ]
        }
      ]
    },
    {
      "cell_type": "code",
      "source": [
        "#just checking the data\n",
        "#cursor.execute('SELECT *  FROM tweeter;')\n",
        "#geo_data = cursor.fetchall()\n",
        "#for row in geo_data:\n",
        "    #print(row)\n"
      ],
      "metadata": {
        "id": "exwPy5jChGR9"
      },
      "execution_count": null,
      "outputs": []
    },
    {
      "cell_type": "code",
      "source": [
        "#Part 1 b (550k tweets)\n",
        "start = time.time()\n",
        "numoftweets = 550000\n",
        "mainurl = 'http://dbgroup.cdm.depaul.edu/DSC450/OneDayOfTweets.txt'\n",
        "con = sqlite3.connect(\"Finalpro2.sqlite\")\n",
        "cursor = con.cursor()\n",
        "cursor.execute('DROP TABLE IF EXISTS tweeter;')\n",
        "cursor.execute('DROP TABLE IF EXISTS User;')\n",
        "cursor.execute('DROP TABLE IF EXISTS Geo;')\n",
        "cursor.execute('''\n",
        "    CREATE TABLE User (\n",
        "        id_user INT(100) ,\n",
        "        name VARCHAR(255),\n",
        "        screen_name VARCHAR(255),\n",
        "        description VARCHAR(255),\n",
        "        friends_count INT(100)\n",
        "    );\n",
        "''')\n",
        "\n",
        "cursor.execute('''\n",
        "    CREATE TABLE Geo (\n",
        "        id_geo VARCHAR(255),\n",
        "        type VARCHAR(255),\n",
        "        latitude VARCHAR(255),\n",
        "        longitude VARCHAR(255)\n",
        "    );\n",
        "''')\n",
        "\n",
        "cursor.execute('''\n",
        "    CREATE TABLE tweeter (\n",
        "        id VARCHAR(255),\n",
        "        id_str VARCHAR(255),\n",
        "        text VARCHAR(255),\n",
        "        source VARCHAR(255),\n",
        "        truncated INT(100),\n",
        "        created_at VARCHAR(255),\n",
        "        retweet_count INT(100),\n",
        "        favorite_count INT(100),\n",
        "        favorited INT(100),\n",
        "        retweeted INT(100),\n",
        "        lang VARCHAR(255),\n",
        "        possibly_sensitive INT(100),\n",
        "        user_id INT,\n",
        "        geo_id VARCHAR(255),\n",
        "        filter_level VARCHAR(255),\n",
        "        FOREIGN KEY (user_id) REFERENCES User(id_user),\n",
        "        FOREIGN KEY (geo_id) REFERENCES Geo(id_geo)\n",
        "    );\n",
        "''')\n",
        "\n",
        "try:\n",
        "    with requests.get(url=mainurl, stream=True) as response:\n",
        "        if response.status_code == 200:\n",
        "            count = 0\n",
        "            numoftweets = 550000\n",
        "            for line in response.iter_lines():\n",
        "                all_data = json.loads(line.decode('utf-8'))\n",
        "                if line:\n",
        "                    user = all_data['user']\n",
        "                    if user is not None:\n",
        "                        sql_user_query = 'INSERT INTO User (id_user, name, screen_name, description, friends_count) VALUES (?, ?, ?, ?, ?);'\n",
        "                        user_data = (\n",
        "                            user['id'],\n",
        "                            user['name'],\n",
        "                            user['screen_name'],\n",
        "                            user['description'],\n",
        "                            user['friends_count']\n",
        "                        )\n",
        "                        cursor.execute(sql_user_query, user_data)\n",
        "                    geo = all_data['geo']\n",
        "\n",
        "                    if geo is not None:\n",
        "                        id_geo = str(geo['coordinates'][0]) + \"_\" + str(geo['coordinates'][1])\n",
        "                        sql = 'INSERT INTO Geo (id_geo, type, latitude, longitude) VALUES (?, ?, ?, ?);'\n",
        "                        geo_data = (\n",
        "                            id_geo,\n",
        "                            geo['type'],\n",
        "                            geo['coordinates'][0],\n",
        "                            geo['coordinates'][1]\n",
        "                        )\n",
        "                        cursor.execute(sql, geo_data)\n",
        "                    else:\n",
        "                        id_geo = None\n",
        "\n",
        "                    user_id = all_data['user']['id']\n",
        "                    sql_tweet_query = 'INSERT INTO tweeter (id, id_str, text, source, truncated, created_at, retweet_count, favorite_count, favorited, retweeted, lang, possibly_sensitive, user_id, geo_id, filter_level) VALUES (?, ?, ?, ?, ?, ?, ?, ?, ?, ?, ?, ?, ?, ?, ?);'\n",
        "                    tweet_data = (\n",
        "                        all_data['id'],\n",
        "                        all_data['id_str'],\n",
        "                        all_data['text'],\n",
        "                        all_data['source'],\n",
        "                        all_data['truncated'],\n",
        "                        all_data['created_at'],\n",
        "                        all_data['retweet_count'],\n",
        "                        all_data['favorite_count'],\n",
        "                        all_data['favorited'],\n",
        "                        all_data['retweeted'],\n",
        "                        all_data['lang'],\n",
        "                        all_data['possibly_sensitive'],\n",
        "                        user_id,\n",
        "                        id_geo,\n",
        "                        all_data['filter_level']\n",
        "                    )\n",
        "                    cursor.execute(sql_tweet_query, tweet_data)\n",
        "                    count += 1\n",
        "                    if count >= numoftweets:\n",
        "                        break\n",
        "\n",
        "            con.commit()\n",
        "        else:\n",
        "            print(\"Error downloading tweets. Status code:\", response.status_code)\n",
        "except requests.exceptions.RequestException as e:\n",
        "    print(\"Error:\", e)\n",
        "\n",
        "end = time.time() - start\n",
        "part1b_2 = end\n",
        "print(\"Execution Time:\", end)\n",
        "total_tweet_count = cursor.execute('SELECT COUNT(*) FROM tweeter;').fetchone()[0]\n",
        "print(\"Total number of rows in tweets table:\", total_tweet_count)\n",
        "total_user_count = cursor.execute('SELECT COUNT(*) FROM User;').fetchone()[0]\n",
        "print(\"Total number of rows in users table:\", total_user_count)\n",
        "total_geo_count = cursor.execute('SELECT COUNT(*) FROM Geo;').fetchone()[0]\n",
        "print(\"Total number of rows in geo table:\", total_geo_count)\n"
      ],
      "metadata": {
        "id": "TuiNYfVtU9CJ",
        "colab": {
          "base_uri": "https://localhost:8080/"
        },
        "outputId": "3f1cdb1f-478e-494f-b364-00731085e5ae"
      },
      "execution_count": null,
      "outputs": [
        {
          "output_type": "stream",
          "name": "stdout",
          "text": [
            "Execution Time: 90.86652827262878\n",
            "Total number of rows in tweets table: 550000\n",
            "Total number of rows in users table: 550000\n",
            "Total number of rows in geo table: 13254\n"
          ]
        }
      ]
    },
    {
      "cell_type": "code",
      "source": [
        "totaltimepart1b = part1b_1  + part1b_2\n",
        "print(\"Total time for part 1 B = \",totaltimepart1b )"
      ],
      "metadata": {
        "id": "nirnX47FVzwy",
        "colab": {
          "base_uri": "https://localhost:8080/"
        },
        "outputId": "c94c50d9-6bcf-4065-e79a-00728178f1d8"
      },
      "execution_count": null,
      "outputs": [
        {
          "output_type": "stream",
          "name": "stdout",
          "text": [
            "Total time for part 1 B =  107.82138514518738\n"
          ]
        }
      ]
    },
    {
      "cell_type": "markdown",
      "source": [
        "c.\tUse your locally saved tweet file to repeat the database population step from part-c. That is, load the tweets into the 3-table database using your saved file with tweets. This is the same code as in 1-b, but reading tweets from your file, not from the web."
      ],
      "metadata": {
        "id": "0JtJNXgJGI3n"
      }
    },
    {
      "cell_type": "code",
      "source": [
        "#1c\n",
        "start = time.time()\n",
        "con = sqlite3.connect(\"Finalpro1c.sqlite\")\n",
        "cursor = con.cursor()\n",
        "cursor.execute('DROP TABLE IF EXISTS User;')\n",
        "cursor.execute('DROP TABLE IF EXISTS tweeter;')\n",
        "cursor.execute('DROP TABLE IF EXISTS Geo;')\n",
        "cursor.execute('''\n",
        "    CREATE TABLE User (\n",
        "        id INT(100),\n",
        "        name VARCHAR2(255),\n",
        "        screen_name VARCHAR2(255),\n",
        "        description VARCHAR2(255),\n",
        "        friends_count INT(100)\n",
        "    );\n",
        "''')\n",
        "\n",
        "cursor.execute(\"\"\"\n",
        " CREATE TABLE tweeter (\n",
        "        id INT(100),\n",
        "        id_str VARCHAR2(255),\n",
        "        text VARCHAR2(255),\n",
        "        source VARCHAR2(255),\n",
        "        truncated INT(100),\n",
        "        created_at VARCHAR2(255),\n",
        "        retweet_count INT(100),\n",
        "        favorite_count INT(100),\n",
        "        favorited INT(100),\n",
        "        retweeted INT(100),\n",
        "        lang VARCHAR2(255),\n",
        "        possibly_sensitive INT(100),\n",
        "        user_id INT,\n",
        "        geo_id VARCHAR(255),\n",
        "        filter_level VARCHAR2(255),\n",
        "        FOREIGN KEY (user_id) REFERENCES User(id),\n",
        "        FOREIGN KEY (geo_id) REFERENCES Geo(id_geo)\n",
        "    );\n",
        "\"\"\")\n",
        "cursor.execute('''\n",
        "    CREATE TABLE Geo (\n",
        "        id_geo TEXT ,\n",
        "        type VARCHAR2(255),\n",
        "        latitude VARCHAR2(255),\n",
        "        longitude VARCHAR2(255)\n",
        "    );\n",
        "''')\n",
        "numoftweets = 110000\n",
        "count = 0\n",
        "error_count = 0\n",
        "\n",
        "\n",
        "try:\n",
        "    with open('/content/alltweets.txt', 'rb') as df:\n",
        "\n",
        "      for line in df:\n",
        "            try:\n",
        "                all_data = json.loads(line.decode('utf-8'))\n",
        "                user_id = all_data['user']['id']\n",
        "                id_geo = None\n",
        "                sql_tweet_query = 'INSERT INTO tweeter (id,id_str,text,source,truncated,created_at,retweet_count,favorite_count,favorited,retweeted, lang, possibly_sensitive,filter_level,user_id,geo_id) VALUES (?, ?, ?, ?, ?, ?, ?, ?, ?, ?,?,?,?,?,?);'\n",
        "                tweet_data = (\n",
        "                    all_data['id'],\n",
        "                    all_data['id_str'],\n",
        "                    all_data['text'],\n",
        "                    all_data['source'],\n",
        "                    all_data['truncated'],\n",
        "                    all_data['created_at'],\n",
        "                    all_data['retweet_count'],\n",
        "                    all_data['favorite_count'],\n",
        "                    all_data['favorited'],\n",
        "                    all_data['retweeted'],\n",
        "                    all_data['lang'],\n",
        "                    all_data['possibly_sensitive'],\n",
        "                    all_data['filter_level'],\n",
        "                    user_id,\n",
        "                    id_geo\n",
        "                )\n",
        "                cursor.execute(sql_tweet_query, tweet_data)\n",
        "\n",
        "                # Insert user\n",
        "                user = all_data['user']\n",
        "                if user is not None:\n",
        "                    sql_user_query = 'INSERT INTO User (id, name, screen_name, description, friends_count) VALUES (?, ?, ?, ?, ?);'\n",
        "                    user_data = (\n",
        "                        user['id'],\n",
        "                        user['name'],\n",
        "                        user['screen_name'],\n",
        "                        user['description'],\n",
        "                        user['friends_count']\n",
        "                    )\n",
        "                    cursor.execute(sql_user_query, user_data)\n",
        "\n",
        "                if geo is not None:\n",
        "                        id_geo = str(geo['coordinates'][0]) + \"_\" + str(geo['coordinates'][1])\n",
        "                        sql = 'INSERT INTO Geo (id_geo, type, latitude, longitude) VALUES (?, ?, ?, ?);'\n",
        "                        geo_data = (\n",
        "                            id_geo,\n",
        "                            geo['type'],\n",
        "                            geo['coordinates'][0],\n",
        "                            geo['coordinates'][1]\n",
        "                        )\n",
        "                        cursor.execute(sql, geo_data)\n",
        "                else:\n",
        "                    id_geo = None\n",
        "\n",
        "                count += 1\n",
        "                if count >= numoftweets:\n",
        "                    break\n",
        "            except json.JSONDecodeError:\n",
        "                error_count += 1\n",
        "                continue\n",
        "      con.commit()\n",
        "\n",
        "except FileNotFoundError:\n",
        "    print(\"File not found.\")\n",
        "\n",
        "end = time.time() - start\n",
        "print(\"Execution Time:\", end)\n",
        "total_tweet_count = cursor.execute('SELECT COUNT(*) FROM tweeter;').fetchone()[0]\n",
        "print(\"Total number of rows in tweets table:\", total_tweet_count)\n",
        "total_user_count = cursor.execute('SELECT COUNT(*) FROM User;').fetchone()[0]\n",
        "print(\"Total number of rows in users table:\", total_user_count)\n",
        "total_geo_count = cursor.execute('SELECT COUNT(*) FROM Geo;').fetchone()[0]\n",
        "print(\"Total number of rows in geo table:\", total_geo_count)\n",
        "\n",
        "part1c_1 = end"
      ],
      "metadata": {
        "id": "LNfLYUfvGlQo",
        "colab": {
          "base_uri": "https://localhost:8080/"
        },
        "outputId": "5ce1bf2e-9f2c-477e-a455-35c672f53241"
      },
      "execution_count": null,
      "outputs": [
        {
          "output_type": "stream",
          "name": "stdout",
          "text": [
            "Execution Time: 10.711484909057617\n",
            "Total number of rows in tweets table: 110000\n",
            "Total number of rows in users table: 110000\n",
            "Total number of rows in geo table: 0\n"
          ]
        }
      ]
    },
    {
      "cell_type": "code",
      "source": [
        "#1c\n",
        "start = time.time()\n",
        "con = sqlite3.connect(\"Finalpro1c.sqlite\")\n",
        "cursor = con.cursor()\n",
        "cursor.execute('DROP TABLE IF EXISTS User;')\n",
        "cursor.execute('DROP TABLE IF EXISTS tweeter;')\n",
        "cursor.execute('DROP TABLE IF EXISTS Geo;')\n",
        "cursor.execute('''\n",
        "    CREATE TABLE User (\n",
        "        id INT(100),\n",
        "        name VARCHAR2(255),\n",
        "        screen_name VARCHAR2(255),\n",
        "        description VARCHAR2(255),\n",
        "        friends_count INT(100)\n",
        "    );\n",
        "''')\n",
        "\n",
        "cursor.execute(\"\"\"\n",
        " CREATE TABLE tweeter (\n",
        "        id INT(100),\n",
        "        id_str VARCHAR2(255),\n",
        "        text VARCHAR2(255),\n",
        "        source VARCHAR2(255),\n",
        "        truncated INT(100),\n",
        "        created_at VARCHAR2(255),\n",
        "        retweet_count INT(100),\n",
        "        favorite_count INT(100),\n",
        "        favorited INT(100),\n",
        "        retweeted INT(100),\n",
        "        lang VARCHAR2(255),\n",
        "        possibly_sensitive INT(100),\n",
        "        user_id INT,\n",
        "        geo_id VARCHAR(255),\n",
        "        filter_level VARCHAR2(255),\n",
        "        FOREIGN KEY (user_id) REFERENCES User(id),\n",
        "        FOREIGN KEY (geo_id) REFERENCES Geo(id_geo)\n",
        "    );\n",
        "\"\"\")\n",
        "cursor.execute('''\n",
        "    CREATE TABLE Geo (\n",
        "        id_geo TEXT ,\n",
        "        type VARCHAR2(255),\n",
        "        latitude VARCHAR2(255),\n",
        "        longitude VARCHAR2(255)\n",
        "    );\n",
        "''')\n",
        "numoftweets = 550000\n",
        "count = 0\n",
        "error_count = 0\n",
        "\n",
        "\n",
        "try:\n",
        "    with open('/content/alltweets2.txt', 'rb') as df:\n",
        "\n",
        "      for line in df:\n",
        "            try:\n",
        "                all_data = json.loads(line.decode('utf-8'))\n",
        "                user_id = all_data['user']['id']\n",
        "                id_geo = None\n",
        "                sql_tweet_query = 'INSERT INTO tweeter (id,id_str,text,source,truncated,created_at,retweet_count,favorite_count,favorited,retweeted, lang, possibly_sensitive,filter_level,user_id,geo_id) VALUES (?, ?, ?, ?, ?, ?, ?, ?, ?, ?,?,?,?,?,?);'\n",
        "                tweet_data = (\n",
        "                    all_data['id'],\n",
        "                    all_data['id_str'],\n",
        "                    all_data['text'],\n",
        "                    all_data['source'],\n",
        "                    all_data['truncated'],\n",
        "                    all_data['created_at'],\n",
        "                    all_data['retweet_count'],\n",
        "                    all_data['favorite_count'],\n",
        "                    all_data['favorited'],\n",
        "                    all_data['retweeted'],\n",
        "                    all_data['lang'],\n",
        "                    all_data['possibly_sensitive'],\n",
        "                    all_data['filter_level'],\n",
        "                    user_id,\n",
        "                    id_geo\n",
        "                )\n",
        "                cursor.execute(sql_tweet_query, tweet_data)\n",
        "\n",
        "                user = all_data['user']\n",
        "                if user is not None:\n",
        "                    sql_user_query = 'INSERT INTO User (id, name, screen_name, description, friends_count) VALUES (?, ?, ?, ?, ?);'\n",
        "                    user_data = (\n",
        "                        user['id'],\n",
        "                        user['name'],\n",
        "                        user['screen_name'],\n",
        "                        user['description'],\n",
        "                        user['friends_count']\n",
        "                    )\n",
        "                    cursor.execute(sql_user_query, user_data)\n",
        "\n",
        "                if geo is not None:\n",
        "                        id_geo = str(geo['coordinates'][0]) + \"_\" + str(geo['coordinates'][1])\n",
        "                        sql = 'INSERT INTO Geo (id_geo, type, latitude, longitude) VALUES (?, ?, ?, ?);'\n",
        "                        geo_data = (\n",
        "                            id_geo,\n",
        "                            geo['type'],\n",
        "                            geo['coordinates'][0],\n",
        "                            geo['coordinates'][1]\n",
        "                        )\n",
        "                        cursor.execute(sql, geo_data)\n",
        "                else:\n",
        "                    id_geo = None\n",
        "\n",
        "                count += 1\n",
        "                if count >= numoftweets:\n",
        "                    break\n",
        "            except json.JSONDecodeError:\n",
        "                error_count += 1\n",
        "                continue\n",
        "      con.commit()\n",
        "\n",
        "except FileNotFoundError:\n",
        "    print(\"File not found.\")\n",
        "\n",
        "end = time.time() - start\n",
        "print(\"Execution Time:\", end)\n",
        "total_tweet_count = cursor.execute('SELECT COUNT(*) FROM tweeter;').fetchone()[0]\n",
        "print(\"Total number of rows in tweets table:\", total_tweet_count)\n",
        "total_user_count = cursor.execute('SELECT COUNT(*) FROM User;').fetchone()[0]\n",
        "print(\"Total number of rows in users table:\", total_user_count)\n",
        "total_geo_count = cursor.execute('SELECT COUNT(*) FROM Geo;').fetchone()[0]\n",
        "print(\"Total number of rows in geo table:\", total_geo_count)\n",
        "\n",
        "part1c_2 = end"
      ],
      "metadata": {
        "id": "Q4bpGaQ_VPdn",
        "colab": {
          "base_uri": "https://localhost:8080/"
        },
        "outputId": "144649d8-2c1d-4fbc-e3fb-20d07498f15e"
      },
      "execution_count": null,
      "outputs": [
        {
          "output_type": "stream",
          "name": "stdout",
          "text": [
            "Execution Time: 45.86909532546997\n",
            "Total number of rows in tweets table: 550000\n",
            "Total number of rows in users table: 550000\n",
            "Total number of rows in geo table: 0\n"
          ]
        }
      ]
    },
    {
      "cell_type": "code",
      "source": [
        "totaltimepart1c = part1c_1  + part1c_2\n",
        "print(\"Total time for part 1 C = \",totaltimepart1c )\n"
      ],
      "metadata": {
        "id": "C31eTfZqW2oc",
        "colab": {
          "base_uri": "https://localhost:8080/"
        },
        "outputId": "ed3f4848-7750-4e1a-be2c-d352fd334f12"
      },
      "execution_count": null,
      "outputs": [
        {
          "output_type": "stream",
          "name": "stdout",
          "text": [
            "Total time for part 1 C =  56.58058023452759\n"
          ]
        }
      ]
    },
    {
      "cell_type": "markdown",
      "source": [
        "d. Repeat the same step with a batching size of 2,000 (i.e. by inserting 2,000 rows at a time with executemany instead of doing individual inserts). Since many of the tweets are missing a Geo location, its fine for the batches of Geo inserts to be smaller than 2,000."
      ],
      "metadata": {
        "id": "iM8mi9vFLxL1"
      }
    },
    {
      "cell_type": "code",
      "source": [
        "#1d\n",
        "start = time.time()\n",
        "con = sqlite3.connect(\"Finalpro1d.sqlite\")\n",
        "cursor = con.cursor()\n",
        "cursor.execute('DROP TABLE IF EXISTS User;')\n",
        "cursor.execute('DROP TABLE IF EXISTS tweeter;')\n",
        "cursor.execute('DROP TABLE IF EXISTS Geo;')\n",
        "cursor.execute('''\n",
        "    CREATE TABLE User (\n",
        "        id INT(100),\n",
        "        name VARCHAR2(255),\n",
        "        screen_name VARCHAR2(255),\n",
        "        description VARCHAR2(255),\n",
        "        friends_count INT(100)\n",
        "    );\n",
        "''')\n",
        "\n",
        "cursor.execute(\"\"\"\n",
        " CREATE TABLE tweeter (\n",
        "        id INT(100),\n",
        "        id_str VARCHAR2(255),\n",
        "        text VARCHAR2(255),\n",
        "        source VARCHAR2(255),\n",
        "        truncated INT(100),\n",
        "        created_at VARCHAR2(255),\n",
        "        retweet_count INT(100),\n",
        "        favorite_count INT(100),\n",
        "        favorited INT(100),\n",
        "        retweeted INT(100),\n",
        "        lang VARCHAR2(255),\n",
        "        possibly_sensitive INT(100),\n",
        "        user_id INT,\n",
        "        geo_id VARCHAR(255),\n",
        "        filter_level VARCHAR2(255),\n",
        "        FOREIGN KEY (user_id) REFERENCES User(id),\n",
        "        FOREIGN KEY (geo_id) REFERENCES Geo(id_geo)\n",
        "    );\n",
        "\"\"\")\n",
        "\n",
        "cursor.execute('''\n",
        "    CREATE TABLE Geo (\n",
        "        id_geo VARCHAR2(255),\n",
        "        type VARCHAR2(255),\n",
        "        latitude VARCHAR2(255),\n",
        "        longitude VARCHAR2(255)\n",
        "    );\n",
        "''')\n",
        "\n",
        "numoftweets = 110000\n",
        "batch_size = 2000\n",
        "count = 0\n",
        "error_count = 0\n",
        "\n",
        "try:\n",
        "    with open('/content/alltweets.txt', 'rb') as df:\n",
        "        tweet_data_batch = []\n",
        "        user_data_batch = []\n",
        "        geo_data_batch = []\n",
        "        for line in df:\n",
        "            try:\n",
        "                all_data = json.loads(line.decode('utf-8'))\n",
        "\n",
        "                user_id = all_data['user']['id']\n",
        "                sql_tweet_query = 'INSERT INTO tweeter (id,id_str,text,source,truncated,created_at,retweet_count,favorite_count,favorited,retweeted, lang, possibly_sensitive,filter_level,user_id,geo_id) VALUES (?, ?, ?, ?, ?, ?, ?, ?, ?, ?,?,?,?,?,?);'\n",
        "                tweet_data = (\n",
        "                        all_data['id'],\n",
        "                        all_data['id_str'],\n",
        "                        all_data['text'],\n",
        "                        all_data['source'],\n",
        "                        all_data['truncated'],\n",
        "                        all_data['created_at'],\n",
        "                        all_data['retweet_count'],\n",
        "                        all_data['favorite_count'],\n",
        "                        all_data['favorited'],\n",
        "                        all_data['retweeted'],\n",
        "                        all_data['lang'],\n",
        "                        all_data['possibly_sensitive'],\n",
        "                        all_data['filter_level'],\n",
        "                        user_id,\n",
        "                        id_geo\n",
        "                    )\n",
        "                tweet_data_batch.append(tweet_data)\n",
        "\n",
        "                user = all_data['user']\n",
        "                if user is not None:\n",
        "                    user_data = (\n",
        "                        user['id'],\n",
        "                        user['name'],\n",
        "                        user['screen_name'],\n",
        "                        user['description'],\n",
        "                        user['friends_count']\n",
        "                    )\n",
        "                    user_data_batch.append(user_data)\n",
        "\n",
        "                geo = all_data['geo']\n",
        "                if geo is not None:\n",
        "                    id_geo = str(geo['coordinates'][0]) + \"_\" + str(geo['coordinates'][1])\n",
        "                    geo_data = (\n",
        "                        id_geo,\n",
        "                        geo['type'],\n",
        "                        geo['coordinates'][0],\n",
        "                        geo['coordinates'][1]\n",
        "                    )\n",
        "                    geo_data_batch.append(geo_data)\n",
        "\n",
        "                count += 1\n",
        "                if count >= numoftweets:\n",
        "                    break\n",
        "\n",
        "                if len(tweet_data_batch) >= batch_size:\n",
        "                    cursor.executemany('INSERT INTO tweeter VALUES (?, ?, ?, ?, ?, ?, ?, ?, ?, ?, ?, ?, ?,?,?)', tweet_data_batch)\n",
        "                    cursor.executemany('INSERT INTO User VALUES (?, ?, ?, ?, ?)', user_data_batch)\n",
        "                    cursor.executemany('INSERT INTO Geo VALUES (?, ?, ?, ?)', geo_data_batch)\n",
        "                    con.commit()\n",
        "                    print(\"tweet batch size\",len(tweet_data_batch))\n",
        "                    tweet_data_batch.clear()\n",
        "                    user_data_batch.clear()\n",
        "                    geo_data_batch.clear()\n",
        "\n",
        "            except json.JSONDecodeError:\n",
        "                error_count += 1\n",
        "                continue\n",
        "\n",
        "        if len(tweet_data_batch) > 0:\n",
        "            cursor.executemany('INSERT INTO tweeter VALUES (?, ?, ?, ?, ?, ?, ?, ?, ?, ?, ?, ?, ?,?,?)', tweet_data_batch)\n",
        "            cursor.executemany('INSERT INTO User VALUES (?, ?, ?, ?, ?)', user_data_batch)\n",
        "            cursor.executemany('INSERT INTO Geo VALUES (?, ?, ?, ?)', geo_data_batch)\n",
        "            con.commit()\n",
        "\n",
        "except FileNotFoundError:\n",
        "    print(\"File not found.\")\n",
        "\n",
        "end = time.time() - start\n",
        "print(\"Execution Time:\", end)\n",
        "total_tweet_count = cursor.execute('SELECT COUNT(*) FROM tweeter;').fetchone()[0]\n",
        "print(\"Total number of rows in tweets table:\", total_tweet_count)\n",
        "total_user_count = cursor.execute('SELECT COUNT(*) FROM User;').fetchone()[0]\n",
        "print(\"Total number of rows in users table:\", total_user_count)\n",
        "total_geo_count = cursor.execute('SELECT COUNT(*) FROM Geo;').fetchone()[0]\n",
        "print(\"Total number of rows in geo table:\", total_geo_count)\n",
        "print(\"Total number of JSON decoding errors:\", error_count)\n",
        "\n",
        "part1d_1 = end"
      ],
      "metadata": {
        "id": "bDlGvty_JehQ",
        "colab": {
          "base_uri": "https://localhost:8080/"
        },
        "outputId": "82e37362-be04-4b2d-b3e1-c768f33c6618"
      },
      "execution_count": null,
      "outputs": [
        {
          "output_type": "stream",
          "name": "stdout",
          "text": [
            "tweet batch size 2000\n",
            "tweet batch size 2000\n",
            "tweet batch size 2000\n",
            "tweet batch size 2000\n",
            "tweet batch size 2000\n",
            "tweet batch size 2000\n",
            "tweet batch size 2000\n",
            "tweet batch size 2000\n",
            "tweet batch size 2000\n",
            "tweet batch size 2000\n",
            "tweet batch size 2000\n",
            "tweet batch size 2000\n",
            "tweet batch size 2000\n",
            "tweet batch size 2000\n",
            "tweet batch size 2000\n",
            "tweet batch size 2000\n",
            "tweet batch size 2000\n",
            "tweet batch size 2000\n",
            "tweet batch size 2000\n",
            "tweet batch size 2000\n",
            "tweet batch size 2000\n",
            "tweet batch size 2000\n",
            "tweet batch size 2000\n",
            "tweet batch size 2000\n",
            "tweet batch size 2000\n",
            "tweet batch size 2000\n",
            "tweet batch size 2000\n",
            "tweet batch size 2000\n",
            "tweet batch size 2000\n",
            "tweet batch size 2000\n",
            "tweet batch size 2000\n",
            "tweet batch size 2000\n",
            "tweet batch size 2000\n",
            "tweet batch size 2000\n",
            "tweet batch size 2000\n",
            "tweet batch size 2000\n",
            "tweet batch size 2000\n",
            "tweet batch size 2000\n",
            "tweet batch size 2000\n",
            "tweet batch size 2000\n",
            "tweet batch size 2000\n",
            "tweet batch size 2000\n",
            "tweet batch size 2000\n",
            "tweet batch size 2000\n",
            "tweet batch size 2000\n",
            "tweet batch size 2000\n",
            "tweet batch size 2000\n",
            "tweet batch size 2000\n",
            "tweet batch size 2000\n",
            "tweet batch size 2000\n",
            "tweet batch size 2000\n",
            "tweet batch size 2000\n",
            "tweet batch size 2000\n",
            "tweet batch size 2000\n",
            "Execution Time: 12.419418334960938\n",
            "Total number of rows in tweets table: 110000\n",
            "Total number of rows in users table: 110000\n",
            "Total number of rows in geo table: 2466\n",
            "Total number of JSON decoding errors: 0\n"
          ]
        }
      ]
    },
    {
      "cell_type": "code",
      "source": [
        "#1d-2\n",
        "start = time.time()\n",
        "con = sqlite3.connect(\"Finalpro1d.sqlite\")\n",
        "cursor = con.cursor()\n",
        "cursor.execute('DROP TABLE IF EXISTS User;')\n",
        "cursor.execute('DROP TABLE IF EXISTS tweeter;')\n",
        "cursor.execute('DROP TABLE IF EXISTS Geo;')\n",
        "cursor.execute('''\n",
        "    CREATE TABLE User (\n",
        "        id INT(100),\n",
        "        name VARCHAR2(255),\n",
        "        screen_name VARCHAR2(255),\n",
        "        description VARCHAR2(255),\n",
        "        friends_count INT(100)\n",
        "    );\n",
        "''')\n",
        "\n",
        "cursor.execute(\"\"\"\n",
        " CREATE TABLE tweeter (\n",
        "        id INT(100),\n",
        "        id_str VARCHAR2(255),\n",
        "        text VARCHAR2(255),\n",
        "        source VARCHAR2(255),\n",
        "        truncated INT(100),\n",
        "        created_at VARCHAR2(255),\n",
        "        retweet_count INT(100),\n",
        "        favorite_count INT(100),\n",
        "        favorited INT(100),\n",
        "        retweeted INT(100),\n",
        "        lang VARCHAR2(255),\n",
        "        possibly_sensitive INT(100),\n",
        "        user_id INT,\n",
        "        geo_id VARCHAR(255),\n",
        "        filter_level VARCHAR2(255),\n",
        "        FOREIGN KEY (user_id) REFERENCES User(id),\n",
        "        FOREIGN KEY (geo_id) REFERENCES Geo(id_geo)\n",
        "    );\n",
        "\"\"\")\n",
        "\n",
        "cursor.execute('''\n",
        "    CREATE TABLE Geo (\n",
        "        id_geo VARCHAR2(255),\n",
        "        type VARCHAR2(255),\n",
        "        latitude VARCHAR2(255),\n",
        "        longitude VARCHAR2(255)\n",
        "    );\n",
        "''')\n",
        "\n",
        "tweetsnum2 = 550000\n",
        "batch_size = 2000\n",
        "count = 0\n",
        "error_count = 0\n",
        "\n",
        "try:\n",
        "    with open('/content/alltweets2.txt', 'rb') as df:\n",
        "        tweet_data_batch = []\n",
        "        user_data_batch = []\n",
        "        geo_data_batch = []\n",
        "        for line in df:\n",
        "            try:\n",
        "                all_data = json.loads(line.decode('utf-8'))\n",
        "                user_id = all_data['user']['id']\n",
        "                sql_tweet_query = 'INSERT INTO tweeter (id,id_str,text,source,truncated,created_at,retweet_count,favorite_count,favorited,retweeted, lang, possibly_sensitive,filter_level,user_id,geo_id) VALUES (?, ?, ?, ?, ?, ?, ?, ?, ?, ?,?,?,?,?,?);'\n",
        "                tweet_data = (\n",
        "                        all_data['id'],\n",
        "                        all_data['id_str'],\n",
        "                        all_data['text'],\n",
        "                        all_data['source'],\n",
        "                        all_data['truncated'],\n",
        "                        all_data['created_at'],\n",
        "                        all_data['retweet_count'],\n",
        "                        all_data['favorite_count'],\n",
        "                        all_data['favorited'],\n",
        "                        all_data['retweeted'],\n",
        "                        all_data['lang'],\n",
        "                        all_data['possibly_sensitive'],\n",
        "                        all_data['filter_level'],\n",
        "                        user_id,\n",
        "                        id_geo\n",
        "                    )\n",
        "                tweet_data_batch.append(tweet_data)\n",
        "\n",
        "                user = all_data['user']\n",
        "                if user is not None:\n",
        "                    user_data = (\n",
        "                        user['id'],\n",
        "                        user['name'],\n",
        "                        user['screen_name'],\n",
        "                        user['description'],\n",
        "                        user['friends_count']\n",
        "                    )\n",
        "                    user_data_batch.append(user_data)\n",
        "\n",
        "                geo = all_data['geo']\n",
        "                if geo is not None:\n",
        "                    id_geo = str(geo['coordinates'][0]) + \"_\" + str(geo['coordinates'][1])\n",
        "                    geo_data = (\n",
        "                        id_geo,\n",
        "                        geo['type'],\n",
        "                        geo['coordinates'][0],\n",
        "                        geo['coordinates'][1]\n",
        "                    )\n",
        "                    geo_data_batch.append(geo_data)\n",
        "\n",
        "                count += 1\n",
        "                if count >= tweetsnum2:\n",
        "                    break\n",
        "\n",
        "                if len(tweet_data_batch) >= batch_size:\n",
        "                    cursor.executemany('INSERT INTO tweeter VALUES (?, ?, ?, ?, ?, ?, ?, ?, ?, ?, ?, ?, ? ,?, ?)', tweet_data_batch)\n",
        "                    cursor.executemany('INSERT INTO User VALUES (?, ?, ?, ?, ?)', user_data_batch)\n",
        "                    cursor.executemany('INSERT INTO Geo VALUES (?, ?, ?, ?)', geo_data_batch)\n",
        "                    con.commit()\n",
        "                    #print(\"tweet batch size\",len(tweet_data_batch))\n",
        "                    tweet_data_batch.clear()\n",
        "                    user_data_batch.clear()\n",
        "                    geo_data_batch.clear()\n",
        "\n",
        "            except json.JSONDecodeError:\n",
        "                error_count += 1\n",
        "                continue\n",
        "\n",
        "        if len(tweet_data_batch) > 0:\n",
        "            cursor.executemany('INSERT INTO tweeter VALUES (?, ?, ?, ?, ?, ?, ?, ?, ?, ?, ?, ?,?,?, ?)', tweet_data_batch)\n",
        "            cursor.executemany('INSERT INTO User VALUES (?, ?, ?, ?, ?)', user_data_batch)\n",
        "            cursor.executemany('INSERT INTO Geo VALUES (?, ?, ?, ?)', geo_data_batch)\n",
        "            con.commit()\n",
        "\n",
        "except FileNotFoundError:\n",
        "    print(\"File not found.\")\n",
        "\n",
        "end = time.time() - start\n",
        "print(\"Execution Time:\", end)\n",
        "total_tweet_count = cursor.execute('SELECT COUNT(*) FROM tweeter;').fetchone()[0]\n",
        "print(\"Total number of rows in tweets table:\", total_tweet_count)\n",
        "total_user_count = cursor.execute('SELECT COUNT(*) FROM User;').fetchone()[0]\n",
        "print(\"Total number of rows in users table:\", total_user_count)\n",
        "total_geo_count = cursor.execute('SELECT COUNT(*) FROM Geo;').fetchone()[0]\n",
        "print(\"Total number of rows in geo table:\", total_geo_count)\n",
        "\n",
        "part1d_2 = end\n"
      ],
      "metadata": {
        "id": "1-t_bkH5c6ss",
        "colab": {
          "base_uri": "https://localhost:8080/"
        },
        "outputId": "eb9707db-baad-403d-db17-dba41eb6b99e"
      },
      "execution_count": null,
      "outputs": [
        {
          "output_type": "stream",
          "name": "stdout",
          "text": [
            "Execution Time: 46.816338300704956\n",
            "Total number of rows in tweets table: 550000\n",
            "Total number of rows in users table: 550000\n",
            "Total number of rows in geo table: 13254\n"
          ]
        }
      ]
    },
    {
      "cell_type": "code",
      "source": [
        "totaltimepart1d = part1d_1 + part1d_2\n",
        "print(\"Total time taken by part D\",totaltimepart1d)"
      ],
      "metadata": {
        "id": "BCfAPadOdy6e",
        "colab": {
          "base_uri": "https://localhost:8080/"
        },
        "outputId": "c8cfc5e4-84cf-4b37-a47e-a178cf727e5e"
      },
      "execution_count": null,
      "outputs": [
        {
          "output_type": "stream",
          "name": "stdout",
          "text": [
            "Total time taken by part D 59.235756635665894\n"
          ]
        }
      ]
    },
    {
      "cell_type": "markdown",
      "source": [
        "e. Plot the resulting runtimes (# of tweets versus runtimes) using matplotlib for 1-a, 1-b, 1-c, and 1-d. How does the runtime compare?"
      ],
      "metadata": {
        "id": "8R40nGw7T31C"
      }
    },
    {
      "cell_type": "code",
      "source": [
        "import pandas as pd\n",
        "\n",
        "runtimefor110k = [part1a_1,part1b_1,part1c_1,part1d_1]\n",
        "runtimefor550k = [part1a_2,part1b_2,part1c_2,part1d_2]\n",
        "plotdata = pd.DataFrame({\n",
        "\n",
        "    \"For 110k tweets\":runtimefor110k,\n",
        "\n",
        "    \"For 550k tweets\":runtimefor550k},\n",
        "\n",
        "    index=[\"1a\", \"1b\", \"1c\", \"1d\"])\n",
        "\n",
        "plotdata.plot(kind=\"bar\",figsize=(15, 8))\n",
        "\n",
        "\n",
        "plt.xlabel('Questions of Part 1')\n",
        "plt.ylabel('Runtime in seconds')\n",
        "plt.title('Runtime for Tweets')\n",
        "\n"
      ],
      "metadata": {
        "id": "gNhOCobno8ln",
        "colab": {
          "base_uri": "https://localhost:8080/",
          "height": 673
        },
        "outputId": "70bde75e-1cd1-4b13-fa1f-6de93d3724e7"
      },
      "execution_count": null,
      "outputs": [
        {
          "output_type": "execute_result",
          "data": {
            "text/plain": [
              "Text(0.5, 1.0, 'Runtime for Tweets')"
            ]
          },
          "metadata": {},
          "execution_count": 16
        },
        {
          "output_type": "display_data",
          "data": {
            "text/plain": [
              "<Figure size 1500x800 with 1 Axes>"
            ],
            "image/png": "[encoded data removed]"
          },
          "metadata": {}
        }
      ]
    },
    {
      "cell_type": "markdown",
      "source": [
        "#Part 2"
      ],
      "metadata": {
        "id": "0SbKOwuRnL9I"
      }
    },
    {
      "cell_type": "markdown",
      "source": [
        "a.\tWrite and execute a SQL query to find the average longitude and latitude value for each user ID. This query does not need the User table because User ID is a foreign key in the Tweet table. E.g., something like SELECT UserID, MIN(longitude), MAX(latitude) FROM Tweet, Geo WHERE Tweet.GeoFK = Geo.GeoID GROUP BY UserID;"
      ],
      "metadata": {
        "id": "oQgFHWHMtLcJ"
      }
    },
    {
      "cell_type": "markdown",
      "source": [
        "My Foreign key was not working properly so thats why i was checking my constraints properly . but now it's working properly  "
      ],
      "metadata": {
        "id": "aZEyqF9RCpJ4"
      }
    },
    {
      "cell_type": "code",
      "source": [
        "import sqlite3\n",
        "import pandas as pd\n",
        "\n",
        "con = sqlite3.connect('Finalpro.sqlite')\n",
        "cursor = con.cursor()\n",
        "cursor.execute('PRAGMA foreign_key_check(Geo);')\n",
        "result = cursor.fetchall()\n",
        "if len(result) == 0:\n",
        "    print(\"Foreign key constraints are satisfied.\")\n",
        "else:\n",
        "    print(\"Foreign key constraints are violated.\")\n",
        "    print(result)\n",
        "\n",
        "\n",
        "start = time.time()\n",
        "results = []\n",
        "results = cursor.execute(\"\"\"\n",
        "        select tweeter.user_id, avg(Geo.longitude), avg(Geo.latitude)\n",
        "        from tweeter, Geo\n",
        "        where tweeter.geo_id = Geo.id_geo group by user_id order by user_id;\n",
        "\"\"\").fetchall()\n",
        "\n",
        "end = time.time() - start\n",
        "print(\"Time taken to retrieve the data:\", end)\n",
        "\n",
        "\n",
        "for row in results[:10]:\n",
        "    user_id, avg_longitude, avg_latitude = row\n",
        "    print(\"User ID:\", user_id)\n",
        "    print(\"Average Longitude:\", avg_longitude)\n",
        "    print(\"Average Latitude:\", avg_latitude)\n",
        "    print()\n",
        "\n",
        "\n",
        "con.close()"
      ],
      "metadata": {
        "id": "8ftmB6Lrux6H",
        "colab": {
          "base_uri": "https://localhost:8080/"
        },
        "outputId": "44ef64ec-d5f6-4097-991f-ceefcd4d569a"
      },
      "execution_count": null,
      "outputs": [
        {
          "output_type": "stream",
          "name": "stdout",
          "text": [
            "Foreign key constraints are satisfied.\n",
            "Time taken to retrieve the data: 0.25992250442504883\n",
            "User ID: 7819\n",
            "Average Longitude: -112.073076\n",
            "Average Latitude: 33.48155\n",
            "\n",
            "User ID: 355203\n",
            "Average Longitude: -73.973056\n",
            "Average Latitude: 40.6895\n",
            "\n",
            "User ID: 647853\n",
            "Average Longitude: -74.034499\n",
            "Average Latitude: 4.691722\n",
            "\n",
            "User ID: 970871\n",
            "Average Longitude: -122.144176\n",
            "Average Latitude: 37.369168\n",
            "\n",
            "User ID: 4068821\n",
            "Average Longitude: -80.366164\n",
            "Average Latitude: 25.702413\n",
            "\n",
            "User ID: 4462131\n",
            "Average Longitude: 139.717688\n",
            "Average Latitude: 35.671795\n",
            "\n",
            "User ID: 4781811\n",
            "Average Longitude: 80.21232\n",
            "Average Latitude: 13.044448\n",
            "\n",
            "User ID: 4867131\n",
            "Average Longitude: 139.699031\n",
            "Average Latitude: 35.663953\n",
            "\n",
            "User ID: 5408562\n",
            "Average Longitude: -78.18603\n",
            "Average Latitude: 39.160163\n",
            "\n",
            "User ID: 5526282\n",
            "Average Longitude: 37.496704\n",
            "Average Latitude: 55.857744\n",
            "\n"
          ]
        }
      ]
    },
    {
      "cell_type": "markdown",
      "source": [
        "b.\tRe-execute the SQL query in part 2-a 5 times and 20 times and measure the total runtime (just re-run the same exact query multiple times using a for-loop, it is as simple as it looks). Does the runtime scale linearly?"
      ],
      "metadata": {
        "id": "x-NMrjCFvE8b"
      }
    },
    {
      "cell_type": "code",
      "source": [
        "import sqlite3\n",
        "import pandas as pd\n",
        "import time\n",
        "\n",
        "con = sqlite3.connect('Finalpro.sqlite')\n",
        "cursor = con.cursor()\n",
        "\n",
        "num_iterations = [5, 20]\n",
        "for n in num_iterations:\n",
        "    start = time.time()\n",
        "    total_runtime = 0\n",
        "    for i in range(n):\n",
        "        start_iteration = time.time()\n",
        "        results = cursor.execute(\"\"\"\n",
        "                SELECT tweeter.user_id, AVG(Geo.longitude), AVG(Geo.latitude)\n",
        "                FROM tweeter, Geo\n",
        "                WHERE tweeter.geo_id = Geo.id_geo\n",
        "                GROUP BY user_id\n",
        "                ORDER BY user_id;\n",
        "        \"\"\").fetchall()\n",
        "        end_iteration = time.time() - start_iteration\n",
        "        total_runtime += end_iteration\n",
        "\n",
        "    print(\"Total runtime for {} iterations:\".format(n), total_runtime)\n",
        "    print()\n",
        "\n",
        "con.close()\n"
      ],
      "metadata": {
        "id": "VlnC6ofYuyRz",
        "colab": {
          "base_uri": "https://localhost:8080/"
        },
        "outputId": "f5187961-088e-4ebe-ffdd-e9eb85fae2c6"
      },
      "execution_count": null,
      "outputs": [
        {
          "output_type": "stream",
          "name": "stdout",
          "text": [
            "Total runtime for 5 iterations: 0.893385648727417\n",
            "\n",
            "Total runtime for 20 iterations: 3.379757881164551\n",
            "\n"
          ]
        }
      ]
    },
    {
      "cell_type": "markdown",
      "source": [
        "--> Looks like runtime for number of iterations are increasing in linear way"
      ],
      "metadata": {
        "id": "Gg9yYD_n9mMr"
      }
    },
    {
      "cell_type": "markdown",
      "source": [
        "c.\tWrite the equivalent of the 2-a query in python (without using SQL) by reading it from the file with 550,000 tweets."
      ],
      "metadata": {
        "id": "_upJNZjmwLgH"
      }
    },
    {
      "cell_type": "code",
      "source": [
        "import json\n",
        "import pandas as pd\n",
        "import itertools\n",
        "\n",
        "data = {}\n",
        "start = time.time()\n",
        "with open('/content/alltweets2.txt', 'rb') as file:\n",
        "    for line in file:\n",
        "        tweet = json.loads(line.decode('utf-8'))\n",
        "        user_id = tweet['user']['id']\n",
        "        if tweet['geo'] is not None:\n",
        "            coordinates = tweet['geo']['coordinates']\n",
        "            latitude = coordinates[0]\n",
        "            longitude = coordinates[1]\n",
        "            if user_id in data.keys():\n",
        "                table = data[user_id]\n",
        "                if tweet['geo']['coordinates'][0] is None:\n",
        "                    longitude = 0\n",
        "                    latitude = 0\n",
        "                table[0] += longitude\n",
        "                table[1] += latitude\n",
        "                table[2] += 1\n",
        "                data[user_id] = table\n",
        "                pass\n",
        "            else:\n",
        "                table = []\n",
        "                if tweet['geo']['coordinates'][1] is None:\n",
        "                    latitude = 0\n",
        "                    longitude = 0\n",
        "                    pass\n",
        "                table.append(longitude)\n",
        "                table.append(latitude)\n",
        "                table.append(1)\n",
        "                data[user_id] = table\n",
        "                pass\n",
        "            pass\n",
        "        pass\n",
        "\n",
        "sorted_dict = dict(itertools.islice(dict(sorted(data.items())).items(), 10))\n",
        "df = {'user_id': [], 'avg(longitude)': [], 'avg(latitude)': []}\n",
        "for user_id in sorted_dict:\n",
        "    table = data[user_id]\n",
        "    avg_longitude = table[0] / table[2]\n",
        "    avg_latitude = table[1] / table[2]\n",
        "\n",
        "    df['user_id'].append(user_id)\n",
        "    df['avg(longitude)'].append(avg_longitude)\n",
        "    df['avg(latitude)'].append(avg_latitude)\n",
        "    pass\n",
        "\n",
        "df = pd.DataFrame(df)\n",
        "print(df)\n",
        "end = time.time() - start\n",
        "print(\"Time taken to retrieve the data:\", end)"
      ],
      "metadata": {
        "colab": {
          "base_uri": "https://localhost:8080/"
        },
        "id": "Uk5_QYx7wS6e",
        "outputId": "98483982-7ebf-46d5-e909-b04b51a2fa15"
      },
      "execution_count": null,
      "outputs": [
        {
          "output_type": "stream",
          "name": "stdout",
          "text": [
            "   user_id  avg(longitude)  avg(latitude)\n",
            "0     7819     -112.073076      33.481550\n",
            "1   355203      -73.973056      40.689500\n",
            "2   647853      -74.034499       4.691722\n",
            "3   970871     -122.144176      37.369168\n",
            "4  4068821      -80.366164      25.702413\n",
            "5  4462131      139.717688      35.671795\n",
            "6  4781811       80.212320      13.044448\n",
            "7  4867131      139.699031      35.663953\n",
            "8  5408562      -78.186030      39.160163\n",
            "9  5526282       37.496704      55.857744\n",
            "Time taken to retrieve the data: 35.67834258079529\n"
          ]
        }
      ]
    },
    {
      "cell_type": "markdown",
      "source": [
        "d.\tRe-execute the query in part 2-c 5 times and 20 times and measure the total runtime. Does the runtime scale linearly?"
      ],
      "metadata": {
        "id": "ZS0BxWDf66dB"
      }
    },
    {
      "cell_type": "code",
      "source": [
        "import json\n",
        "import pandas as pd\n",
        "import itertools\n",
        "import time\n",
        "\n",
        "num_iterations = [5,20]\n",
        "total_runtime = 0\n",
        "data = {}\n",
        "for n in num_iterations:\n",
        "    start_time = time.time()\n",
        "    for i in range(n):\n",
        "      with open('/content/alltweets2.txt', 'rb') as file:\n",
        "        for line in file:\n",
        "            tweet = json.loads(line.decode('utf-8'))\n",
        "            user_id = tweet['user']['id']\n",
        "            if tweet['geo'] is not None:\n",
        "                coordinates = tweet['geo']['coordinates']\n",
        "                latitude = coordinates[0]\n",
        "                longitude = coordinates[1]\n",
        "                if user_id in data.keys():\n",
        "                    table = data[user_id]\n",
        "                    if tweet['geo']['coordinates'][0] is None:\n",
        "                        longitude = 0\n",
        "                        latitude = 0\n",
        "                    table[0] += longitude\n",
        "                    table[1] += latitude\n",
        "                    table[2] += 1\n",
        "                    data[user_id] = table\n",
        "                else:\n",
        "                    table = []\n",
        "                    if tweet['geo']['coordinates'][1] is None:\n",
        "                        latitude = 0\n",
        "                        longitude = 0\n",
        "                    table.append(longitude)\n",
        "                    table.append(latitude)\n",
        "                    table.append(1)\n",
        "                    data[user_id] = table\n",
        "\n",
        "        sorted_dict = dict(itertools.islice(dict(sorted(data.items())).items(), 10))\n",
        "        df = {'user_id': [], 'avg(longitude)': [], 'avg(latitude)': []}\n",
        "        for user_id in sorted_dict:\n",
        "            table = data[user_id]\n",
        "            avg_longitude = table[0] / table[2]\n",
        "            avg_latitude = table[1] / table[2]\n",
        "\n",
        "            df['user_id'].append(user_id)\n",
        "            df['avg(longitude)'].append(avg_longitude)\n",
        "            df['avg(latitude)'].append(avg_latitude)\n",
        "\n",
        "        df = pd.DataFrame(df)\n",
        "\n",
        "        end_time = time.time()\n",
        "        execution_time = end_time - start_time\n",
        "        total_runtime += execution_time\n",
        "\n",
        "    print(\"Total runtime for {} iterations:\".format(n), total_runtime)\n",
        "    print()"
      ],
      "metadata": {
        "colab": {
          "base_uri": "https://localhost:8080/"
        },
        "id": "Lv66T-a136Sx",
        "outputId": "13646a9c-4690-4341-b26e-e7f76686bcf2"
      },
      "execution_count": null,
      "outputs": [
        {
          "output_type": "stream",
          "name": "stdout",
          "text": [
            "Total runtime for 5 iterations: 538.7009913921356\n",
            "\n",
            "Total runtime for 20 iterations: 8128.305525302887\n",
            "\n"
          ]
        }
      ]
    },
    {
      "cell_type": "markdown",
      "source": [
        "--> no it does not looks like runtime for number of iterations are increasing in linear way"
      ],
      "metadata": {
        "id": "Go8D2tS5-AvP"
      }
    },
    {
      "cell_type": "markdown",
      "source": [
        "e.\tWrite the equivalent of the 2-a query in python by using regular expressions instead of json.loads(). Do not use json.loads() here. Note that you only need to find userid and geo location (if any) for each tweet, you don’t need to parse the whole thing."
      ],
      "metadata": {
        "id": "pS3rIoCD6-2s"
      }
    },
    {
      "cell_type": "code",
      "source": [
        "import re\n",
        "import pandas as pd\n",
        "\n",
        "tweet_file = 'alltweets2.txt'\n",
        "user_data = {}\n",
        "\n",
        "with open(tweet_file, 'rb') as file:\n",
        "    tweet_count = 0\n",
        "    count = 0\n",
        "    for line in file:\n",
        "        if tweet_count >= 250_000:\n",
        "            break\n",
        "        tweet_count += 1\n",
        "        tweet = line.decode('utf-8')\n",
        "        tweet = str(tweet)\n",
        "\n",
        "        user_id_match = re.search(r'(?<=\"user\":{\"id\":)\\d+', tweet)\n",
        "        if user_id_match:\n",
        "            user_id = int(user_id_match.group(0))\n",
        "\n",
        "            geo_data_match = re.search(r'(?<=\"geo\":)\\w+', tweet)\n",
        "            if geo_data_match and geo_data_match.group(0) == 'null':\n",
        "                has_geo_data = False\n",
        "            else:\n",
        "                has_geo_data = True\n",
        "                geo_match = re.search(r'\"geo\":\\{(.*?)\\}', tweet)\n",
        "                if geo_match:\n",
        "                    coordinates_match = re.search(r'\\[(.*?)\\]', geo_match.group(0))\n",
        "                    if coordinates_match:\n",
        "                        coordinates = coordinates_match.group(0).rstrip(']').lstrip('[').split(',')\n",
        "                        latitude = float(coordinates[0])\n",
        "                        longitude = float(coordinates[1])\n",
        "                        if user_id in user_data:\n",
        "                            user_table = user_data[user_id]\n",
        "                            if coordinates[0] is None:\n",
        "                                longitude = 0\n",
        "                                latitude = 0\n",
        "                            user_table[0] += longitude\n",
        "                            user_table[1] += latitude\n",
        "                            user_table[2] += 1\n",
        "                        else:\n",
        "                            user_table = [0, 0, 1]\n",
        "                            if coordinates[1] is None:\n",
        "                                latitude = 0\n",
        "                                longitude = 0\n",
        "                            user_table[0] = longitude\n",
        "                            user_table[1] = latitude\n",
        "                            user_data[user_id] = user_table\n",
        "\n",
        "sorted_user_data = dict(list(sorted(user_data.items()))[:10])\n",
        "df = {'user_id': [], 'avg_longitude': [], 'avg_latitude': []}\n",
        "for user_id, user_table in sorted_user_data.items():\n",
        "    avg_longitude = user_table[0] / user_table[2]\n",
        "    avg_latitude = user_table[1] / user_table[2]\n",
        "    df['user_id'].append(user_id)\n",
        "    df['avg_longitude'].append(avg_longitude)\n",
        "    df['avg_latitude'].append(avg_latitude)\n",
        "\n",
        "df = pd.DataFrame(df)\n",
        "print(df)\n"
      ],
      "metadata": {
        "id": "JNpKTozc4Ep_",
        "colab": {
          "base_uri": "https://localhost:8080/"
        },
        "outputId": "cd003c7e-8b21-48ea-ec56-550261327647"
      },
      "execution_count": null,
      "outputs": [
        {
          "output_type": "stream",
          "name": "stdout",
          "text": [
            "   user_id  avg_longitude  avg_latitude\n",
            "0     7819    -112.073076     33.481550\n",
            "1   647853     -74.034499      4.691722\n",
            "2  4462131     139.717688     35.671795\n",
            "3  4781811      80.212320     13.044448\n",
            "4  5526282      37.496704     55.857744\n",
            "5  6859912     -84.512067     39.103553\n",
            "6  7054752     -84.550199     33.951923\n",
            "7  7519912       2.355292     48.828888\n",
            "8  8445422    -123.082099     44.040457\n",
            "9  8706722     -43.225287    -22.978287\n"
          ]
        }
      ]
    },
    {
      "cell_type": "markdown",
      "source": [
        "f.\tRe-execute the query in part 2-e 5 times and 20 times and measure the total runtime. Does the runtime scale linearly?"
      ],
      "metadata": {
        "id": "qPe2vNNDy5ui"
      }
    },
    {
      "cell_type": "code",
      "source": [
        "num_iterations = [5, 20]\n",
        "total_runtime = 0\n",
        "data = {}\n",
        "\n",
        "for n in num_iterations:\n",
        "    start_time = time.time()\n",
        "\n",
        "    for i in range(n):\n",
        "        tweet_file = '/content/alltweets2.txt'\n",
        "        user_data = {}\n",
        "\n",
        "        with open(tweet_file, 'rb') as file:\n",
        "            tweet_count = 0\n",
        "            count = 0\n",
        "            for line in file:\n",
        "                if tweet_count >= 250_000:\n",
        "                    break\n",
        "                tweet_count += 1\n",
        "                tweet = line.decode('utf-8')\n",
        "                tweet = str(tweet)\n",
        "\n",
        "                user_id_match = re.search(r'(?<=\"user\":{\"id\":)\\d+', tweet)\n",
        "                if user_id_match:\n",
        "                    user_id = int(user_id_match.group(0))\n",
        "\n",
        "                    geo_data_match = re.search(r'(?<=\"geo\":)\\w+', tweet)\n",
        "                    if geo_data_match and geo_data_match.group(0) == 'null':\n",
        "                        has_geo_data = False\n",
        "                    else:\n",
        "                        has_geo_data = True\n",
        "                        geo_match = re.search(r'\"geo\":\\{(.*?)\\}', tweet)\n",
        "                        if geo_match:\n",
        "                            coordinates_match = re.search(r'\\[(.*?)\\]', geo_match.group(0))\n",
        "                            if coordinates_match:\n",
        "                                coordinates = coordinates_match.group(0).rstrip(']').lstrip('[').split(',')\n",
        "                                latitude = float(coordinates[0])\n",
        "                                longitude = float(coordinates[1])\n",
        "                                if user_id in user_data:\n",
        "                                    user_table = user_data[user_id]\n",
        "                                    if coordinates[0] is None:\n",
        "                                        longitude = 0\n",
        "                                        latitude = 0\n",
        "                                    user_table[0] += longitude\n",
        "                                    user_table[1] += latitude\n",
        "                                    user_table[2] += 1\n",
        "                                else:\n",
        "                                    user_table = [0, 0, 1]\n",
        "                                    if coordinates[1] is None:\n",
        "                                        latitude = 0\n",
        "                                        longitude = 0\n",
        "                                    user_table[0] = longitude\n",
        "                                    user_table[1] = latitude\n",
        "                                    user_data[user_id] = user_table\n",
        "\n",
        "        sorted_user_data = dict(list(sorted(user_data.items()))[:10])\n",
        "        df = {'user_id': [], 'avg_longitude': [], 'avg_latitude': []}\n",
        "        for user_id, user_table in sorted_user_data.items():\n",
        "            avg_longitude = user_table[0] / user_table[2]\n",
        "            avg_latitude = user_table[1] / user_table[2]\n",
        "            df['user_id'].append(user_id)\n",
        "            df['avg_longitude'].append(avg_longitude)\n",
        "            df['avg_latitude'].append(avg_latitude)\n",
        "\n",
        "        df = pd.DataFrame(df)\n",
        "        #print(df) not printing the output\n",
        "\n",
        "    end_time = time.time()\n",
        "    execution_time = end_time - start_time\n",
        "    total_runtime += execution_time\n",
        "    data[n] = execution_time\n",
        "\n",
        "    print(f\"Total runtime for {n} iterations: {execution_time} seconds\")\n",
        "    print()\n",
        "\n",
        "print(f\"Total runtime for all iterations: {total_runtime} seconds\")\n",
        "print(\"Runtimes for individual iterations:\", data)\n"
      ],
      "metadata": {
        "colab": {
          "base_uri": "https://localhost:8080/"
        },
        "id": "Jc8-Q5Vtys2w",
        "outputId": "966de83b-ad96-48de-f390-c61c79c02dc4"
      },
      "execution_count": null,
      "outputs": [
        {
          "output_type": "stream",
          "name": "stdout",
          "text": [
            "Total runtime for 5 iterations: 74.5090401172638 seconds\n",
            "\n",
            "Total runtime for 20 iterations: 299.8694312572479 seconds\n",
            "\n",
            "Total runtime for all iterations: 374.3784713745117 seconds\n",
            "Runtimes for individual iterations: {5: 74.5090401172638, 20: 299.8694312572479}\n"
          ]
        }
      ]
    },
    {
      "cell_type": "markdown",
      "source": [
        "---> Looks like runtime for number of iterations are increasing in linear way"
      ],
      "metadata": {
        "id": "Ghs45-rp-Shq"
      }
    },
    {
      "cell_type": "markdown",
      "source": [
        "#Part 3"
      ],
      "metadata": {
        "id": "BWF2K6JO7omC"
      }
    },
    {
      "cell_type": "markdown",
      "source": [
        "a.\tUsing the database with 550,000 tweets, create a new table that corresponds to the join of all 3 tables in your database, including records without a geo location. This is the equivalent of a materialized view but since SQLite does not support MVs, we will use CREATE TABLE AS SELECT (instead of CREATE MATERIALIZED VIEW AS SELECT)."
      ],
      "metadata": {
        "id": "6H_iiqy_7u7i"
      }
    },
    {
      "cell_type": "code",
      "source": [
        "import sqlite3\n",
        "\n",
        "conn = sqlite3.connect('Finalpro2.sqlite')\n",
        "cursor = conn.cursor()\n",
        "\n",
        "cursor.execute(\"DROP TABLE IF EXISTS All_Table_Join\")\n",
        "\n",
        "cursor.execute(\"\"\"\n",
        "    CREATE TABLE All_Table_Join AS\n",
        "    SELECT\n",
        "        tweeter.*, User.*, Geo.*\n",
        "    FROM\n",
        "        tweeter\n",
        "    LEFT JOIN\n",
        "        User ON tweeter.user_id = User.id_user\n",
        "    LEFT JOIN\n",
        "        Geo ON tweeter.geo_id = Geo.id_geo\n",
        "\"\"\")\n",
        "\n",
        "cursor.execute('SELECT * FROM All_Table_Join')\n",
        "all_table_join = cursor.fetchall()\n",
        "for row in all_table_join[:20]:\n",
        "    print(row)\n",
        "\n",
        "conn.close()\n"
      ],
      "metadata": {
        "colab": {
          "base_uri": "https://localhost:8080/"
        },
        "id": "_QId_wGq7rAB",
        "outputId": "10676dcb-8f06-40d8-fff0-9db4de299362"
      },
      "execution_count": null,
      "outputs": [
        {
          "output_type": "stream",
          "name": "stdout",
          "text": [
            "('471803285746495500', '471803285746495489', 'There is no wealth but life. ~John Ruskin #wisdomink', '<a href=\"http://www.hootsuite.com\" rel=\"nofollow\">HootSuite</a>', 0, 'Thu May 29 00:00:43 +0000 2014', 0, 0, 0, 0, 'en', 0, 213646047, None, 'medium', 213646047, 'Wisdom Ink', 'Wisdom_Ink', 'Wisdom Ink Online Magazine:  Expressing our #joy & #love via our articles. Celebrating diversity & the growth of #consciousness. #zen #meditation #spiritual', 4821, None, None, None, None)\n",
            "('471803285738106900', '471803285738106880', 'Mucho la Plop esto, la Plop aquello, pero de los viernes es la fiesta con la gente más linda. \\nEn las otras vienen directo de la frontera.', 'web', 0, 'Thu May 29 00:00:43 +0000 2014', 0, 0, 0, 0, 'es', 0, 38950479, None, 'medium', 38950479, 'Yarer Sofier', 'firekites', 'Visite nuestro stand en la planta cuarta. Gran liquidación en revólveres, cuchillos y todos los complementos de la mujer inquieta.', 99, None, None, None, None)\n",
            "('471803285767462900', '471803285767462913', 'motive. When a political idea finds its way into such heads,', '<a href=\"http://eto-secret4.ru\" rel=\"nofollow\">eto prosto NEW secret</a>', 0, 'Thu May 29 00:00:43 +0000 2014', 0, 0, 0, 0, 'en', 0, 2443526930, None, 'medium', 2443526930, 'Vera Luciani', 'rosaxonahag', 'Proud coffee advocate ; studies in  # all about-Devoted alcohol lover .', 261, None, None, None, None)\n",
            "('471803285750681600', '471803285750681600', '@im_2realbih bol!', '<a href=\"http://twitter.com/download/android\" rel=\"nofollow\">Twitter for Android</a>', 0, 'Thu May 29 00:00:43 +0000 2014', 0, 0, 0, 0, 'und', 0, 284813188, None, 'medium', 284813188, 'J e s s', '_SameOleSHIT', None, 683, None, None, None, None)\n",
            "('471803285759078400', '471803285759078401', 'A veces no entendemos por que, cuando, donde , como y ahora que hago, por que . Dios es perfecto y a veces... http://t.co/iCyBxph8s9', '<a href=\"http://www.facebook.com/twitter\" rel=\"nofollow\">Facebook</a>', 0, 'Thu May 29 00:00:43 +0000 2014', 0, 0, 0, 0, 'es', 0, 146270795, None, 'medium', 146270795, 'rocio murillo lopez', 'gomitatica', None, 4, None, None, None, None)\n",
            "('471803285742317600', '471803285742317568', 'jajajjaja hay no el vr todo por queres ver si se podia grabar lpm :#', 'web', 0, 'Thu May 29 00:00:43 +0000 2014', 0, 0, 0, 0, 'es', 0, 1146905466, None, 'medium', 1146905466, \"Fuiste'peroperdiste.\", 'NatyEmeri', 'Mi Idilo es aquel que años atras con solo una guitarra , consiguio su sueño en las escaleras del teatro avon.\\r\\nBELIEBER  ∞', 238, None, None, None, None)\n",
            "('471803285763280900', '471803285763280897', '@LariiNandoFT9 kkkkkkkkkkkkkkk ai gente to aqui um bebê com uma recém-nascida e meu emocional?', 'web', 0, 'Thu May 29 00:00:43 +0000 2014', 0, 0, 0, 0, 'pt', 0, 1031294863, None, 'medium', 1031294863, 'Mayara', 'foryoumartinez', None, 184, None, None, None, None)\n",
            "('471803285742288900', '471803285742288896', 'RT @beyles66: cant wait for next year with @Harrison_BHS and @ThePurbalite', '<a href=\"http://twitter.com/download/android\" rel=\"nofollow\">Twitter for Android</a>', 0, 'Thu May 29 00:00:43 +0000 2014', 0, 0, 0, 0, 'en', 0, 329489005, None, 'medium', 329489005, 'Harrison_BHS', 'Harrison_BHS', 'English teacher and sponsor of the Purbalite and Literary Guild. On a mission to stomp out bad music everywhere.', 105, None, None, None, None)\n",
            "('471803285738094600', '471803285738094592', '“@J_Mf_Gandee26: This picture 😍💋👯🍻👌😩 @PleasurePink_ @Damn_CeBadd http://t.co/NmVo59x1di”😍😘', '<a href=\"http://twitter.com/download/iphone\" rel=\"nofollow\">Twitter for iPhone</a>', 0, 'Thu May 29 00:00:43 +0000 2014', 0, 0, 0, 0, 'en', 0, 561545606, None, 'medium', 561545606, 'baddgirl⭐️', 'Damn_CeBadd', \"#TeamGet'EmBuck❤️ IG @_MixedShorty\", 879, None, None, None, None)\n",
            "('471803285767462900', '471803285767462912', 'El sábado es la reu y no voy..Segunda reunión que falto desde que entre a JBRO,mami forra.', '<a href=\"http://twitter.com/download/android\" rel=\"nofollow\">Twitter for Android</a>', 0, 'Thu May 29 00:00:43 +0000 2014', 0, 0, 0, 0, 'es', 0, 263210284, None, 'medium', 263210284, '✝ Stay and Believe ✝', 'yami_belieberJB', 'No siempre tenemos lo que queremos,aveces debemos conformarnos con lo que podemos.', 320, None, None, None, None)\n",
            "('471803285771649000', '471803285771649024', '@Emabeltran8 Uuuuuu gatas?', '<a href=\"http://store.ovi.com/content/256340\" rel=\"nofollow\">Twitter for Nokia S40</a>', 0, 'Thu May 29 00:00:43 +0000 2014', 0, 0, 0, 0, 'lv', 0, 1433853528, None, 'medium', 1433853528, 'Mau:3', 'MauriRamirez3', 'frases del saimon mauri ramirez es mi fb jajajajaja', 156, None, None, None, None)\n",
            "('471803285771649000', '471803285771649024', '@Emabeltran8 Uuuuuu gatas?', '<a href=\"http://store.ovi.com/content/256340\" rel=\"nofollow\">Twitter for Nokia S40</a>', 0, 'Thu May 29 00:00:43 +0000 2014', 0, 0, 0, 0, 'lv', 0, 1433853528, None, 'medium', 1433853528, 'Mau:3', 'MauriRamirez3', 'frases del saimon mauri ramirez es mi fb jajajajaja', 156, None, None, None, None)\n",
            "('471803285771657200', '471803285771657216', 'En tu cara.', '<a href=\"http://twitter.com/download/android\" rel=\"nofollow\">Twitter for Android</a>', 0, 'Thu May 29 00:00:43 +0000 2014', 0, 0, 0, 0, 'es', 0, 1977173120, None, 'medium', 1977173120, ' Jazz♡', 'andrea_jazzmin1', 'Para poder amar primero amate a ti mismo. |Spotter|HUP♥|Raider|Nicolás Arrieta|1D|LarryShipper|.', 138, None, None, None, None)\n",
            "('471803285737717760', '471803285737717760', '@null 79', '<a href=\"http://twittbot.net/\" rel=\"nofollow\">twittbot.net</a>', 0, 'Thu May 29 00:00:43 +0000 2014', 0, 0, 0, 0, 'und', 0, 2382808592, None, 'medium', 2382808592, 'クルーク', 'syuusai_klug', None, 122, None, None, None, None)\n",
            "('471803285741895700', '471803285741895680', '「定期」フォローワーさん募集中。－\\u3000神威', '<a href=\"http://twittbot.net/\" rel=\"nofollow\">twittbot.net</a>', 0, 'Thu May 29 00:00:43 +0000 2014', 0, 0, 0, 0, 'ja', 0, 2207410128, None, 'medium', 2207410128, '神威@バンダイナムコゲームス公式公認', 'kamui___jp', 'アニメ・銀魂の神威くんの非公式なりきりだよ。 バンダイナムコゲームス公式ウェブマスター 「公認」の 創作botだよ。 銀魂ファン随時募集中しています。 時々手動で呟きます。 プロフィールみてね 「http://twpf.jp/kamui___jp」 アイコンはしろたん【@shirotan_xx 】より', 1057, None, None, None, None)\n",
            "('471803285741895700', '471803285741895680', '「定期」フォローワーさん募集中。－\\u3000神威', '<a href=\"http://twittbot.net/\" rel=\"nofollow\">twittbot.net</a>', 0, 'Thu May 29 00:00:43 +0000 2014', 0, 0, 0, 0, 'ja', 0, 2207410128, None, 'medium', 2207410128, '神威@バンダイナムコゲームス公式公認', 'kamui___jp', 'アニメ・銀魂の神威くんの非公式なりきりだよ。 バンダイナムコゲームス公式ウェブマスター 「公認」の 創作botだよ。 銀魂ファン随時募集中しています。 時々手動で呟きます。 プロフィールみてね 「http://twpf.jp/kamui___jp」 アイコンはしろたん【@shirotan_xx 】より', 1057, None, None, None, None)\n",
            "('471803285746106400', '471803285746106368', '風呂にキュピトゥピキュピトゥピ入キュピ。', '<a href=\"http://twitter.com/download/android\" rel=\"nofollow\">Twitter for Android</a>', 0, 'Thu May 29 00:00:43 +0000 2014', 0, 0, 0, 0, 'ja', 0, 368283643, None, 'medium', 368283643, 'べっち 5/31西宮＋初個別2部1回。', 'Betti21Tana', 'サッカーとパチスロとアイドリング!!!があれば生きていける。ゆうかお一推し。でも基本箱推し。ルリうめ・尾島も推しぎみ。ラーメン大好き。昔っからの渡辺美里ファン。ガンダム大好き。基本昼寝て夜仕事中。', 438, None, None, None, None)\n",
            "('471803285762883600', '471803285762883585', '【定時】\\nマルキュウマルマル\\n\\n学校の日は\\n これから始まる授業に萎えますね…', '<a href=\"http://twittbot.net/\" rel=\"nofollow\">twittbot.net</a>', 0, 'Thu May 29 00:00:43 +0000 2014', 0, 0, 0, 0, 'ja', 0, 174088334, None, 'medium', 174088334, 'ななうみ', 'ubutora', 'お前らが文句言うからリア用垢作りました。都合上、空中はほぼ非対応。本垢で実名出したらスパブロ拡散します。', 73, None, None, None, None)\n",
            "('471803285762883600', '471803285762883585', '【定時】\\nマルキュウマルマル\\n\\n学校の日は\\n これから始まる授業に萎えますね…', '<a href=\"http://twittbot.net/\" rel=\"nofollow\">twittbot.net</a>', 0, 'Thu May 29 00:00:43 +0000 2014', 0, 0, 0, 0, 'ja', 0, 174088334, None, 'medium', 174088334, 'ななうみ', 'ubutora', 'お前らが文句言うからリア用垢作りました。都合上、空中はほぼ非対応。本垢で実名出したらスパブロ拡散します。', 73, None, None, None, None)\n",
            "('471803285733519360', '471803285733519360', 'Happy world burger day everyone!', '<a href=\"http://twitter.com/download/iphone\" rel=\"nofollow\">Twitter for iPhone</a>', 0, 'Thu May 29 00:00:43 +0000 2014', 0, 0, 0, 0, 'en', 0, 462658467, None, 'medium', 462658467, 'Dyl', 'Big_Dyl97', 'Enjoying the salad days // a part of the fine nine', 493, None, None, None, None)\n"
          ]
        }
      ]
    },
    {
      "cell_type": "markdown",
      "source": [
        "b.\tExport the contents of 1) the Tweet table and 2) your new table from 3-a into a new JSON file (i.e., create your own JSON file with just the keys you extracted). You do not need to replicate the structure of the input and can come up with any reasonable keys for each field stored in JSON structure (e.g., you can have longitude as “longitude” key when the location is available).\n",
        "How do the file sizes compare to the original input file?\n"
      ],
      "metadata": {
        "id": "6HKzmjUl_-b8"
      }
    },
    {
      "cell_type": "code",
      "source": [
        "conn = sqlite3.connect(\"Finalpro2.sqlite\")\n",
        "cursor = conn.cursor()\n",
        "cursor.execute(\"SELECT * FROM tweeter\")\n",
        "tweet_data = cursor.fetchall()\n",
        "cursor.execute(\"SELECT * FROM All_Table_Join\")\n",
        "all_table_join_data = cursor.fetchall()\n",
        "tweet_keys = [\"id\", \"id_str\", \"text\", \"source\", \"truncated\", \"created_at\", \"retweet_count\", \"favorite_count\", \"favorited\", \"retweeted\", \"lang\", \"possibly_sensitive\", \"user_id\", \"geo_id\", \"filter_level\"]\n",
        "all_table_join_keys = [\"tweet_id\", \"tweet_id_str\", \"tweet_text\", \"tweet_source\", \"tweet_truncated\", \"tweet_created_at\", \"tweet_retweet_count\", \"tweet_favorite_count\", \"tweet_favorited\", \"tweet_retweeted\", \"tweet_lang\", \"tweet_possibly_sensitive\", \"user_id\", \"geo_id\", \"filter_level\", \"user_id_user\", \"user_name\", \"user_screen_name\", \"user_description\", \"user_friends_count\", \"geo_id_geo\", \"geo_type\", \"geo_latitude\", \"geo_longitude\"]\n",
        "\n",
        "combined_data = {\n",
        "    \"tweet_data\": [dict(zip(tweet_keys, tweet)) for tweet in tweet_data],\n",
        "    \"all_table_join_data\": [dict(zip(all_table_join_keys, row)) for row in all_table_join_data]\n",
        "}\n",
        "\n",
        "with open(\"combined_data.json\", \"w\") as json_file:\n",
        "    json.dump(combined_data, json_file)\n",
        "\n",
        "\n"
      ],
      "metadata": {
        "id": "VwFw-dXA_9u9"
      },
      "execution_count": null,
      "outputs": []
    },
    {
      "cell_type": "markdown",
      "source": [
        "checking the files sizes here"
      ],
      "metadata": {
        "id": "WVy7gVmEAN7O"
      }
    },
    {
      "cell_type": "code",
      "source": [
        "#\n",
        "import os\n",
        "file_path = '/content/alltweets2.txt'\n",
        "file_path2 = '/content/combined_data.json'\n",
        "file_size1 = os.path.getsize(file_path)\n",
        "file_size2 = os.path.getsize(file_path2)\n",
        "def convert_size(size):\n",
        "    # 2**10 = 1024\n",
        "    power = 2 ** 10\n",
        "    n = 0\n",
        "    power_labels = {0: 'B', 1: 'KB', 2: 'MB', 3: 'GB', 4: 'TB'}\n",
        "    while size > power:\n",
        "        size /= power\n",
        "        n += 1\n",
        "    return f\"{round(size, 2)} {power_labels[n]}\"\n",
        "\n",
        "file_size_readable1 = convert_size(file_size1)\n",
        "print(f\"The file size of txt file is: {file_size_readable1}\")\n",
        "\n",
        "file_size_readable2 = convert_size(file_size2)\n",
        "print(f\"The file size of Json file is: {file_size_readable2}\")"
      ],
      "metadata": {
        "colab": {
          "base_uri": "https://localhost:8080/"
        },
        "id": "azwuJtkS-02k",
        "outputId": "c4bed4c5-543a-438c-a706-52d5a1178367"
      },
      "execution_count": null,
      "outputs": [
        {
          "output_type": "stream",
          "name": "stdout",
          "text": [
            "The file size of txt file is: 1.62 GB\n",
            "The file size of Json file is: 907.38 MB\n"
          ]
        }
      ]
    },
    {
      "cell_type": "markdown",
      "source": [
        "Json file is way much lighter than Txt file"
      ],
      "metadata": {
        "id": "yZMprXytBHNk"
      }
    },
    {
      "cell_type": "markdown",
      "source": [
        "c.\tExport the contents of 1) the Tweet table and 2) your table from 3-a into a .csv (comma separated value) file.\n",
        "How do the file size compare to the original input file and to the files in 3-b?\n"
      ],
      "metadata": {
        "id": "lBkyvcckLJme"
      }
    },
    {
      "cell_type": "code",
      "source": [
        "import csv\n",
        "conn = sqlite3.connect(\"Finalpro2.sqlite\")\n",
        "cursor = conn.cursor()\n",
        "\n",
        "cursor.execute(\"SELECT * FROM tweeter\")\n",
        "tweet_data = cursor.fetchall()\n",
        "\n",
        "cursor.execute(\"SELECT * FROM All_Table_Join\")\n",
        "all_table_join_data = cursor.fetchall()\n",
        "\n",
        "csv_file = \"combined_data.csv\"\n",
        "\n",
        "tweet_headers = [\"id\", \"id_str\", \"text\", \"source\", \"truncated\", \"created_at\", \"retweet_count\", \"favorite_count\", \"favorited\", \"retweeted\", \"lang\", \"possibly_sensitive\", \"user_id\", \"geo_id\", \"filter_level\"]\n",
        "all_table_join_headers = [\"tweet_id\", \"tweet_id_str\", \"tweet_text\", \"tweet_source\", \"tweet_truncated\", \"tweet_created_at\", \"tweet_retweet_count\", \"tweet_favorite_count\", \"tweet_favorited\", \"tweet_retweeted\", \"tweet_lang\", \"tweet_possibly_sensitive\", \"user_id\", \"geo_id\", \"filter_level\", \"user_id_user\", \"user_name\", \"user_screen_name\", \"user_description\", \"user_friends_count\", \"geo_id_geo\", \"geo_type\", \"geo_latitude\", \"geo_longitude\"]\n",
        "\n",
        "with open(csv_file, \"w\", newline=\"\", encoding=\"utf-8\") as file:\n",
        "    writer = csv.writer(file, quoting=csv.QUOTE_ALL, escapechar=\"\\\"\")\n",
        "    writer.writerow(tweet_headers)\n",
        "    writer.writerows(tweet_data)\n",
        "    writer.writerow(all_table_join_headers)\n",
        "    writer.writerows(all_table_join_data)\n",
        "conn.close()\n"
      ],
      "metadata": {
        "id": "zHz0SaTALJVc"
      },
      "execution_count": null,
      "outputs": []
    },
    {
      "cell_type": "markdown",
      "source": [
        "Checking the files size over here"
      ],
      "metadata": {
        "id": "hMlCCgAhCGNt"
      }
    },
    {
      "cell_type": "code",
      "source": [
        "import os\n",
        "file_path = '/content/alltweets2.txt'\n",
        "file_path2 = '/content/combined_data.json'\n",
        "file_path3 = '/content/combined_data.csv'\n",
        "file_size1 = os.path.getsize(file_path)\n",
        "file_size2 = os.path.getsize(file_path2)\n",
        "file_size3 = os.path.getsize(file_path3)\n",
        "def convert_size(size):\n",
        "    # 2**10 = 1024\n",
        "    power = 2 ** 10\n",
        "    n = 0\n",
        "    power_labels = {0: 'B', 1: 'KB', 2: 'MB', 3: 'GB', 4: 'TB'}\n",
        "    while size > power:\n",
        "        size /= power\n",
        "        n += 1\n",
        "    return f\"{round(size, 2)} {power_labels[n]}\"\n",
        "\n",
        "file_size_readable1 = convert_size(file_size1)\n",
        "print(f\"The file size of txt file is: {file_size_readable1}\")\n",
        "\n",
        "file_size_readable2 = convert_size(file_size2)\n",
        "print(f\"The file size of Json file is: {file_size_readable2}\")\n",
        "\n",
        "file_size_readable3 = convert_size(file_size3)\n",
        "print(f\"The file size of csv file is: {file_size_readable3}\")"
      ],
      "metadata": {
        "colab": {
          "base_uri": "https://localhost:8080/"
        },
        "id": "vu0j-iWzCK8C",
        "outputId": "cb794675-1c53-41f9-9d2f-d65602d3ee2c"
      },
      "execution_count": null,
      "outputs": [
        {
          "output_type": "stream",
          "name": "stdout",
          "text": [
            "The file size of txt file is: 1.62 GB\n",
            "The file size of Json file is: 907.38 MB\n",
            "The file size of csv file is: 447.19 MB\n"
          ]
        }
      ]
    },
    {
      "cell_type": "markdown",
      "source": [
        "CSV files looks 1/4 of the Txt file and CSV files looks 1/2 of the Json file"
      ],
      "metadata": {
        "id": "Hzg11ebCCQB7"
      }
    },
    {
      "cell_type": "markdown",
      "source": [
        "#coverting file to html"
      ],
      "metadata": {
        "id": "ayrdWsAjQAem"
      }
    },
    {
      "cell_type": "code",
      "source": [
        "%%shell\n",
        "jupyter nbconvert --to html //content/final_database_project.ipynb"
      ],
      "metadata": {
        "colab": {
          "base_uri": "https://localhost:8080/"
        },
        "id": "WUM3jWtVQFZc",
        "outputId": "f0cac6a3-06ec-4274-fb4b-e3261a244004"
      },
      "execution_count": null,
      "outputs": [
        {
          "output_type": "stream",
          "name": "stdout",
          "text": [
            "[NbConvertApp] Converting notebook //content/final_database_project.ipynb to html\n",
            "[NbConvertApp] Writing 834257 bytes to //content/final_database_project.html\n"
          ]
        },
        {
          "output_type": "execute_result",
          "data": {
            "text/plain": []
          },
          "metadata": {},
          "execution_count": 31
        }
      ]
    }
  ]
}